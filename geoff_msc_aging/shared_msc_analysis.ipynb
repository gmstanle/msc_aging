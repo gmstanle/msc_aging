{
 "cells": [
  {
   "cell_type": "markdown",
   "metadata": {},
   "source": [
    "# Analysis of MSC aging gene expression\n",
    "\n",
    "See this website to browse and visualize gene expression:\n",
    "https://tabula-muris-senis.ds.czbiohub.org\n",
    "\n",
    "This notebook produces a list of genes that are differentially expressed in MSCs from multiple different tissues in the aging process. Specifically, it produces a list of \"conserved\" genes - genes that are upregulated in aging in at least 4 or 5 out of 6 tissues in which mesenchymal stem cells were found. \"Upregulated\" genes are enriched in aged animals (24-30 month) and \"downregulated\" genes are enriched in young animals (1-3 month). See the [Tabula Muris Senis publication](https://www.biorxiv.org/content/10.1101/661728v3) for more details on the data. \n",
    "\n",
    "For \"strict\" up/down regulation, a gene is considered up/down regulated if it is in the top 1000 up/down regulated genes in a tissue. For \"loose\" up/down regulation, a gene is considered up/down regulated if it is in the top 2500 up/down regulated genes in a tissue. All of these genes are technically significant by p-values. The purpose of using a cutoff of the top 1000 or 2500 based on foldchange is to select the genes with"
   ]
  },
  {
   "cell_type": "code",
   "execution_count": 57,
   "metadata": {},
   "outputs": [],
   "source": [
    "import pandas as pd\n",
    "import numpy as np\n",
    "import matplotlib.pyplot as plt\n",
    "import seaborn as sns\n",
    "import scanpy as sc\n",
    "import pickle\n",
    "import re\n",
    "from scipy import stats\n",
    "\n",
    "\n",
    "data_path = '../data/tms_gene_data/'"
   ]
  },
  {
   "cell_type": "code",
   "execution_count": 7,
   "metadata": {},
   "outputs": [],
   "source": [
    "with open(data_path + 'DE_result/DE_tissue_cell_droplet.pickle', 'rb') as handle:\n",
    "    de_tissue_cell_droplet = pickle.load(handle)\n",
    "\n",
    "with open(data_path + 'DE_result/DE_tissue_cell_FACS.pickle', 'rb') as handle:\n",
    "    de_tissue_cell_facs = pickle.load(handle)"
   ]
  },
  {
   "cell_type": "code",
   "execution_count": 28,
   "metadata": {},
   "outputs": [
    {
     "name": "stdout",
     "output_type": "stream",
     "text": [
      "There are 62 tissue-cell combos for droplet\n"
     ]
    }
   ],
   "source": [
    "print(\"There are %d tissue-cell combos for droplet\" % len(de_tissue_cell_droplet.keys()))"
   ]
  },
  {
   "cell_type": "code",
   "execution_count": 29,
   "metadata": {},
   "outputs": [
    {
     "name": "stdout",
     "output_type": "stream",
     "text": [
      "There are 131 tissue-cell combos for facs\n"
     ]
    }
   ],
   "source": [
    "print(\"There are %d tissue-cell combos for facs\" % len(de_tissue_cell_facs.keys()))"
   ]
  },
  {
   "cell_type": "markdown",
   "metadata": {},
   "source": [
    "Find the tisse-cell type differential expression results corresponding to MSCs:"
   ]
  },
  {
   "cell_type": "code",
   "execution_count": 46,
   "metadata": {},
   "outputs": [
    {
     "name": "stdout",
     "output_type": "stream",
     "text": [
      "FACS: ['Diaphragm.mesenchymal stem cell', 'BAT.mesenchymal stem cell of adipose', 'GAT.mesenchymal stem cell of adipose', 'SCAT.mesenchymal stem cell of adipose', 'MAT.mesenchymal stem cell of adipose', 'Limb_Muscle.mesenchymal stem cell']\n",
      "droplet: ['Limb_Muscle.mesenchymal stem cell']\n"
     ]
    }
   ],
   "source": [
    "de_msc_facs = {x: de_tissue_cell_facs[x] for x in de_tissue_cell_facs.keys() if re.search(\"mes.*stem\", x)}\n",
    "print('FACS: %s' % list(de_msc_facs.keys()))\n",
    "de_msc_droplet = {x: de_tissue_cell_droplet[x] for x in de_tissue_cell_droplet.keys() if re.search(\"mes.*stem\", x)}\n",
    "print('droplet: %s' % list(de_msc_droplet.keys()))"
   ]
  },
  {
   "cell_type": "code",
   "execution_count": 40,
   "metadata": {},
   "outputs": [
    {
     "data": {
      "text/html": [
       "<div>\n",
       "<style scoped>\n",
       "    .dataframe tbody tr th:only-of-type {\n",
       "        vertical-align: middle;\n",
       "    }\n",
       "\n",
       "    .dataframe tbody tr th {\n",
       "        vertical-align: top;\n",
       "    }\n",
       "\n",
       "    .dataframe thead th {\n",
       "        text-align: right;\n",
       "    }\n",
       "</style>\n",
       "<table border=\"1\" class=\"dataframe\">\n",
       "  <thead>\n",
       "    <tr style=\"text-align: right;\">\n",
       "      <th></th>\n",
       "      <th>gene</th>\n",
       "      <th>raw-p</th>\n",
       "      <th>coef</th>\n",
       "      <th>bh-p</th>\n",
       "      <th>fc</th>\n",
       "    </tr>\n",
       "  </thead>\n",
       "  <tbody>\n",
       "    <tr>\n",
       "      <th>Lum</th>\n",
       "      <td>Lum</td>\n",
       "      <td>1.614028e-45</td>\n",
       "      <td>-0.086366</td>\n",
       "      <td>6.030061e-42</td>\n",
       "      <td>-2.033003</td>\n",
       "    </tr>\n",
       "    <tr>\n",
       "      <th>Gsn</th>\n",
       "      <td>Gsn</td>\n",
       "      <td>1.708042e-53</td>\n",
       "      <td>-0.097129</td>\n",
       "      <td>1.483605e-49</td>\n",
       "      <td>-1.898059</td>\n",
       "    </tr>\n",
       "    <tr>\n",
       "      <th>Dpysl2</th>\n",
       "      <td>Dpysl2</td>\n",
       "      <td>1.053850e-40</td>\n",
       "      <td>-0.064285</td>\n",
       "      <td>2.034164e-37</td>\n",
       "      <td>-1.699740</td>\n",
       "    </tr>\n",
       "    <tr>\n",
       "      <th>Sept2</th>\n",
       "      <td>Sept2</td>\n",
       "      <td>1.354558e-53</td>\n",
       "      <td>-0.060338</td>\n",
       "      <td>1.483605e-49</td>\n",
       "      <td>-1.695977</td>\n",
       "    </tr>\n",
       "    <tr>\n",
       "      <th>Ccdc80</th>\n",
       "      <td>Ccdc80</td>\n",
       "      <td>2.386673e-41</td>\n",
       "      <td>-0.093589</td>\n",
       "      <td>5.182660e-38</td>\n",
       "      <td>-1.650970</td>\n",
       "    </tr>\n",
       "    <tr>\n",
       "      <th>...</th>\n",
       "      <td>...</td>\n",
       "      <td>...</td>\n",
       "      <td>...</td>\n",
       "      <td>...</td>\n",
       "      <td>...</td>\n",
       "    </tr>\n",
       "    <tr>\n",
       "      <th>Rarres2</th>\n",
       "      <td>Rarres2</td>\n",
       "      <td>9.699563e-26</td>\n",
       "      <td>0.052477</td>\n",
       "      <td>2.674616e-23</td>\n",
       "      <td>0.893248</td>\n",
       "    </tr>\n",
       "    <tr>\n",
       "      <th>Rpl13a</th>\n",
       "      <td>Rpl13a</td>\n",
       "      <td>1.426203e-27</td>\n",
       "      <td>0.045198</td>\n",
       "      <td>4.858039e-25</td>\n",
       "      <td>0.900558</td>\n",
       "    </tr>\n",
       "    <tr>\n",
       "      <th>Ifitm3</th>\n",
       "      <td>Ifitm3</td>\n",
       "      <td>1.369645e-26</td>\n",
       "      <td>0.057763</td>\n",
       "      <td>4.032793e-24</td>\n",
       "      <td>0.907947</td>\n",
       "    </tr>\n",
       "    <tr>\n",
       "      <th>Mt2</th>\n",
       "      <td>Mt2</td>\n",
       "      <td>1.186346e-11</td>\n",
       "      <td>0.038798</td>\n",
       "      <td>3.553311e-10</td>\n",
       "      <td>0.965182</td>\n",
       "    </tr>\n",
       "    <tr>\n",
       "      <th>Ftl1</th>\n",
       "      <td>Ftl1</td>\n",
       "      <td>2.987532e-31</td>\n",
       "      <td>0.057639</td>\n",
       "      <td>1.572709e-28</td>\n",
       "      <td>1.106491</td>\n",
       "    </tr>\n",
       "  </tbody>\n",
       "</table>\n",
       "<p>19842 rows × 5 columns</p>\n",
       "</div>"
      ],
      "text/plain": [
       "            gene         raw-p      coef          bh-p        fc\n",
       "Lum          Lum  1.614028e-45 -0.086366  6.030061e-42 -2.033003\n",
       "Gsn          Gsn  1.708042e-53 -0.097129  1.483605e-49 -1.898059\n",
       "Dpysl2    Dpysl2  1.053850e-40 -0.064285  2.034164e-37 -1.699740\n",
       "Sept2      Sept2  1.354558e-53 -0.060338  1.483605e-49 -1.695977\n",
       "Ccdc80    Ccdc80  2.386673e-41 -0.093589  5.182660e-38 -1.650970\n",
       "...          ...           ...       ...           ...       ...\n",
       "Rarres2  Rarres2  9.699563e-26  0.052477  2.674616e-23  0.893248\n",
       "Rpl13a    Rpl13a  1.426203e-27  0.045198  4.858039e-25  0.900558\n",
       "Ifitm3    Ifitm3  1.369645e-26  0.057763  4.032793e-24  0.907947\n",
       "Mt2          Mt2  1.186346e-11  0.038798  3.553311e-10  0.965182\n",
       "Ftl1        Ftl1  2.987532e-31  0.057639  1.572709e-28  1.106491\n",
       "\n",
       "[19842 rows x 5 columns]"
      ]
     },
     "execution_count": 40,
     "metadata": {},
     "output_type": "execute_result"
    }
   ],
   "source": [
    "de_msc_facs['Diaphragm.mesenchymal stem cell'].sort_values('fc')"
   ]
  },
  {
   "cell_type": "markdown",
   "metadata": {},
   "source": [
    "## Consistency of FACS vs droplet"
   ]
  },
  {
   "cell_type": "markdown",
   "metadata": {},
   "source": [
    "First compare FACS vs droplet for muscle MSCs to show that the technologies are giving consistent answers"
   ]
  },
  {
   "cell_type": "code",
   "execution_count": 80,
   "metadata": {},
   "outputs": [
    {
     "data": {
      "image/png": "[encoded data removed]",
      "text/plain": [
       "<Figure size 432x288 with 1 Axes>"
      ]
     },
     "metadata": {
      "needs_background": "light"
     },
     "output_type": "display_data"
    },
    {
     "name": "stdout",
     "output_type": "stream",
     "text": [
      "Cor: 0.327698, pval: 0.000000\n"
     ]
    }
   ],
   "source": [
    "common_tissue = 'Limb_Muscle.mesenchymal stem cell'\n",
    "\n",
    "merged_de_results = de_msc_facs[common_tissue].rename(lambda x: x + '_facs', axis='columns'). \\\n",
    "merge(de_msc_droplet[common_tissue].rename(lambda x: x + '_droplet', axis='columns'), \\\n",
    "      left_index=True, right_index=True)\n",
    "\n",
    "sns.regplot(x='fc_facs', y='fc_droplet', data=merged_de_results, scatter_kws={'alpha': 0.3})\n",
    "plt.grid()\n",
    "plt.show()\n",
    "cor, pval = stats.spearmanr(merged_de_results['fc_facs'], merged_de_results['fc_droplet'])\n",
    "print('Cor: %f, pval: %f' % (cor, pval))\n"
   ]
  },
  {
   "cell_type": "markdown",
   "metadata": {},
   "source": [
    "Good, there is reasonable correlation between fold-changes and you can see that the FACS generates larger magnitude fold-changes, on average. "
   ]
  },
  {
   "cell_type": "code",
   "execution_count": 69,
   "metadata": {},
   "outputs": [
    {
     "data": {
      "text/html": [
       "<div>\n",
       "<style scoped>\n",
       "    .dataframe tbody tr th:only-of-type {\n",
       "        vertical-align: middle;\n",
       "    }\n",
       "\n",
       "    .dataframe tbody tr th {\n",
       "        vertical-align: top;\n",
       "    }\n",
       "\n",
       "    .dataframe thead th {\n",
       "        text-align: right;\n",
       "    }\n",
       "</style>\n",
       "<table border=\"1\" class=\"dataframe\">\n",
       "  <thead>\n",
       "    <tr style=\"text-align: right;\">\n",
       "      <th></th>\n",
       "      <th>gene_facs</th>\n",
       "      <th>raw-p_facs</th>\n",
       "      <th>coef_facs</th>\n",
       "      <th>bh-p_facs</th>\n",
       "      <th>fc_facs</th>\n",
       "      <th>gene_droplet</th>\n",
       "      <th>raw-p_droplet</th>\n",
       "      <th>coef_droplet</th>\n",
       "      <th>bh-p_droplet</th>\n",
       "      <th>fc_droplet</th>\n",
       "    </tr>\n",
       "  </thead>\n",
       "  <tbody>\n",
       "    <tr>\n",
       "      <th>0610005C13Rik</th>\n",
       "      <td>0610005C13Rik</td>\n",
       "      <td>2.849714e-02</td>\n",
       "      <td>NaN</td>\n",
       "      <td>5.089938e-02</td>\n",
       "      <td>0.000569</td>\n",
       "      <td>NaN</td>\n",
       "      <td>NaN</td>\n",
       "      <td>NaN</td>\n",
       "      <td>NaN</td>\n",
       "      <td>0.000000</td>\n",
       "    </tr>\n",
       "    <tr>\n",
       "      <th>0610007C21Rik</th>\n",
       "      <td>0610007C21Rik</td>\n",
       "      <td>5.836328e-17</td>\n",
       "      <td>0.010402</td>\n",
       "      <td>1.028038e-15</td>\n",
       "      <td>0.018930</td>\n",
       "      <td>0610007C21Rik</td>\n",
       "      <td>9.594277e-43</td>\n",
       "      <td>-0.005969</td>\n",
       "      <td>8.600809e-42</td>\n",
       "      <td>-0.134581</td>\n",
       "    </tr>\n",
       "    <tr>\n",
       "      <th>0610007L01Rik</th>\n",
       "      <td>0610007L01Rik</td>\n",
       "      <td>1.628186e-13</td>\n",
       "      <td>-0.002981</td>\n",
       "      <td>1.643550e-12</td>\n",
       "      <td>-0.088343</td>\n",
       "      <td>0610007L01Rik</td>\n",
       "      <td>1.618820e-57</td>\n",
       "      <td>-0.002756</td>\n",
       "      <td>4.067055e-56</td>\n",
       "      <td>-0.052177</td>\n",
       "    </tr>\n",
       "    <tr>\n",
       "      <th>0610007N19Rik</th>\n",
       "      <td>0610007N19Rik</td>\n",
       "      <td>1.516887e-18</td>\n",
       "      <td>0.000370</td>\n",
       "      <td>3.425001e-17</td>\n",
       "      <td>-0.046542</td>\n",
       "      <td>0610007N19Rik</td>\n",
       "      <td>1.927233e-197</td>\n",
       "      <td>-0.018410</td>\n",
       "      <td>7.927204e-195</td>\n",
       "      <td>-0.347530</td>\n",
       "    </tr>\n",
       "    <tr>\n",
       "      <th>0610007P08Rik</th>\n",
       "      <td>0610007P08Rik</td>\n",
       "      <td>1.676431e-06</td>\n",
       "      <td>-0.001291</td>\n",
       "      <td>6.306025e-06</td>\n",
       "      <td>-0.034364</td>\n",
       "      <td>0610007P08Rik</td>\n",
       "      <td>3.386750e-11</td>\n",
       "      <td>0.000336</td>\n",
       "      <td>7.354383e-11</td>\n",
       "      <td>0.004726</td>\n",
       "    </tr>\n",
       "  </tbody>\n",
       "</table>\n",
       "</div>"
      ],
      "text/plain": [
       "                   gene_facs    raw-p_facs  coef_facs     bh-p_facs   fc_facs  \\\n",
       "0610005C13Rik  0610005C13Rik  2.849714e-02        NaN  5.089938e-02  0.000569   \n",
       "0610007C21Rik  0610007C21Rik  5.836328e-17   0.010402  1.028038e-15  0.018930   \n",
       "0610007L01Rik  0610007L01Rik  1.628186e-13  -0.002981  1.643550e-12 -0.088343   \n",
       "0610007N19Rik  0610007N19Rik  1.516887e-18   0.000370  3.425001e-17 -0.046542   \n",
       "0610007P08Rik  0610007P08Rik  1.676431e-06  -0.001291  6.306025e-06 -0.034364   \n",
       "\n",
       "                gene_droplet  raw-p_droplet  coef_droplet   bh-p_droplet  \\\n",
       "0610005C13Rik            NaN            NaN           NaN            NaN   \n",
       "0610007C21Rik  0610007C21Rik   9.594277e-43     -0.005969   8.600809e-42   \n",
       "0610007L01Rik  0610007L01Rik   1.618820e-57     -0.002756   4.067055e-56   \n",
       "0610007N19Rik  0610007N19Rik  1.927233e-197     -0.018410  7.927204e-195   \n",
       "0610007P08Rik  0610007P08Rik   3.386750e-11      0.000336   7.354383e-11   \n",
       "\n",
       "               fc_droplet  \n",
       "0610005C13Rik    0.000000  \n",
       "0610007C21Rik   -0.134581  \n",
       "0610007L01Rik   -0.052177  \n",
       "0610007N19Rik   -0.347530  \n",
       "0610007P08Rik    0.004726  "
      ]
     },
     "execution_count": 69,
     "metadata": {},
     "output_type": "execute_result"
    }
   ],
   "source": [
    "merged_de_results.head()"
   ]
  },
  {
   "cell_type": "code",
   "execution_count": 72,
   "metadata": {},
   "outputs": [
    {
     "data": {
      "text/plain": [
       "is_significant_droplet    11950\n",
       "is_significant_facs        8273\n",
       "dtype: int64"
      ]
     },
     "execution_count": 72,
     "metadata": {},
     "output_type": "execute_result"
    }
   ],
   "source": [
    "merged_de_results['is_significant_droplet'] = merged_de_results['bh-p_droplet'] < 0.01\n",
    "merged_de_results['is_significant_facs'] = merged_de_results['bh-p_facs'] < 0.01\n",
    "merged_de_results[['is_significant_droplet', 'is_significant_facs']].agg(func=sum)"
   ]
  },
  {
   "cell_type": "markdown",
   "metadata": {},
   "source": [
    "Problem is, nearly half of genes are significantly changed. It's reasonable to assume only the highest-scoring are of biological importance (and it's probably also the case that the statistical test is overfitting to animal-animal variation). "
   ]
  },
  {
   "cell_type": "code",
   "execution_count": 76,
   "metadata": {},
   "outputs": [
    {
     "data": {
      "text/plain": [
       "[None]"
      ]
     },
     "execution_count": 76,
     "metadata": {},
     "output_type": "execute_result"
    },
    {
     "data": {
      "image/png": "[encoded data removed]",
      "text/plain": [
       "<Figure size 432x288 with 1 Axes>"
      ]
     },
     "metadata": {
      "needs_background": "light"
     },
     "output_type": "display_data"
    }
   ],
   "source": [
    "grid=sns.scatterplot(x='fc_facs', y='bh-p_facs', data=merged_de_results, alpha=0.1)\n",
    "grid.set(yscale='log')"
   ]
  },
  {
   "cell_type": "markdown",
   "metadata": {},
   "source": [
    "## Broadly-conserved MSC aging signatures"
   ]
  },
  {
   "cell_type": "markdown",
   "metadata": {},
   "source": [
    "Question: what genes are broadly upregulated in MSC aging regardless of tissue? \n",
    "\n",
    "These genes are good candidates for a CRISPR screen since they are more likely to be core to the MSC aging process and more likely to validate in an in vitro system."
   ]
  },
  {
   "cell_type": "markdown",
   "metadata": {},
   "source": [
    "How can we define broadly upregulated MSC aging genes? They should be differentially expressed in *most* tissues, but requiring they be differentially expressed in *every* tissue is probably too strict and particularly will penalize experiments that test many tissues (the false negative rate linearly increases with the number of tissues for the 100% requirement). "
   ]
  },
  {
   "cell_type": "markdown",
   "metadata": {},
   "source": [
    "Therefore, compute and store the intersection of top $n$ differential genes for the different tissues that MSCs are present in. Due to the very large number ($\\gt 8000$) number of significantly differential genes observed in each cell type and tissue, no p-value filtering is performed, and $n$ should be $\\leq 4000$. I am assuming that the large number of cells is inflating the p-values, and that therefore selecting the top $n$ genes by foldchange is likely a better way of selecting genes."
   ]
  },
  {
   "cell_type": "code",
   "execution_count": 173,
   "metadata": {},
   "outputs": [],
   "source": [
    "class DegIntersection:\n",
    "    \"\"\"A class for computing and storing conserved DEGs from differential\n",
    "    expression analysis of multiple celltypes. \n",
    "    \n",
    "    Warning: it is assumed that the top n genes are significant, as no p-value \n",
    "    significance filtereing is performed.\n",
    "    \n",
    "    Attributes\n",
    "    ----------\n",
    "    celltype_deg_dict : dict\n",
    "        a dictionary of str: pandas.DataFame key-value pairs, where the DataFrame\n",
    "        has gene names as the Index, and a column 'fc' that stores the fold-changes\n",
    "        \n",
    "    celltypes : list\n",
    "        a list of celltypes corresponding to the keys of deg_dict\n",
    "        \n",
    "    n : int\n",
    "        the number of DEGs, sorted by 'fc', to consider as differentially expressed\n",
    "        for each celltype\n",
    "    \n",
    "    frac : float\n",
    "        the fraction of celltypes expressing a DEG for the DEG to be considered conserved.\n",
    "        The number of celltypes is calculated as round(frac*len(celltypes)).\n",
    "        \n",
    "    conserved_degs : dict\n",
    "        a dict with two keys: 'up' and 'down'. The 'up' key returns a list of DEGs with\n",
    "        conserved upregulation and the 'down' key returns a list of DEGs with conserved\n",
    "        downregulation.\n",
    "    \"\"\"\n",
    "    \n",
    "    def __init__(self, deg_dict, n, frac):\n",
    "        self.celltype_deg_dict = deg_dict\n",
    "        \n",
    "        self.celltypes = list(deg_dict.keys())\n",
    "        self.n = n\n",
    "        self.frac = frac\n",
    "        \n",
    "        self.__get_all_genes()\n",
    "        \n",
    "    \n",
    "    def __repr__(self):\n",
    "        return 'DegIntersection object, n=%d, frac=%d' % (n, frac)\n",
    "        \n",
    "    def __get_all_genes(self):\n",
    "        \n",
    "        geneset = set()\n",
    "        for celltype in self.celltype_deg_dict:\n",
    "            celltype_gene_set = set(self.celltype_deg_dict[celltype].index.to_list())\n",
    "            geneset = geneset.union(celltype_gene_set)\n",
    "            \n",
    "        self.genes_up = dict.fromkeys(geneset,0)\n",
    "        self.genes_down = dict.fromkeys(geneset,0)\n",
    "            \n",
    "        \n",
    "    def __get_top_n(self, deg_dataframe):\n",
    "        \"\"\"Get the top n upregulated and downregulated genes by\n",
    "           foldchange. Warning: these genes are not filtered by\n",
    "           significance, and it is assumed that the top n genes \n",
    "           are significantly differentially regulated.\"\"\"\n",
    "        n = self.n\n",
    "        \n",
    "        sorted_foldchanges = deg_dataframe.sort_values('fc')['fc']\n",
    "        top_n_up = set(sorted_foldchanges[:(-n-1):-1].index.to_list())\n",
    "        top_n_down = set(sorted_foldchanges[:n].index.to_list())\n",
    "        \n",
    "        return top_n_up, top_n_down\n",
    "\n",
    "    def compute_deg_conservation(self):\n",
    "        \"\"\"Compute the number of celltypes that each deg is differentially\n",
    "        expressed in.\"\"\"\n",
    "\n",
    "        for celltype in self.celltype_deg_dict:\n",
    "            top_n_up, top_n_down = self.__get_top_n(self.celltype_deg_dict[celltype])\n",
    "            \n",
    "            for g in top_n_up:\n",
    "                self.genes_up[g] +=1\n",
    "            for g in top_n_down:\n",
    "                self.genes_down[g] += 1\n",
    "        \n",
    "        \n",
    "    def write_conserved_genes(self, fname):\n",
    "        \"\"\"Write the gene intersections and metadata out.\n",
    "           Note: will not write out gene unions since these will be \n",
    "           large and unwieldy for downstream users\n",
    "        \"\"\"\n",
    "        frac = self.frac\n",
    "        min_celltypes = round(frac * len(self.celltypes))\n",
    "        glist_up = [g for g in self.genes_up if self.genes_up[g] >= min_celltypes]\n",
    "        glist_down = [g for g in self.genes_down if self.genes_down[g] >= min_celltypes]\n",
    "        \n",
    "        with open(fname + '_up.csv', 'w') as handle:\n",
    "            handle.writelines('%s\\n' % g for g in glist_up)\n",
    "            \n",
    "        with open(fname + '_down.csv', 'w') as handle:\n",
    "            handle.writelines('%s\\n' % g for g in glist_down)\n",
    "\n",
    "\n",
    "    def add_celltype(self,deg_dataframe, celltype):\n",
    "        \"\"\"Add the top DEGs from a list of DEGs of a celltype\"\"\"\n",
    "        top_n_up, top_n_down = self.__get_top_n(deg_dataframe)\n",
    "        \n",
    "        # if no lists have been added yet, add the first one\n",
    "        if not len(self.celltypes):\n",
    "            self.up_intersection = set(top_n_up)\n",
    "            self.down_intersection = set(top_n_down)\n",
    "            self.up_union = set(top_n_up)\n",
    "            self.down_union = set(top_n_down)\n",
    "            \n",
    "        # otherwise add the intersections\n",
    "        else:\n",
    "            self.up_intersection = self.up_intersection.intersection(top_n_up)\n",
    "            self.down_intersection = self.down_intersection.intersection(top_n_down)\n",
    "            self.up_union = self.up_union.union(top_n_up)\n",
    "            self.down_union = self.down_union.union(top_n_down)\n",
    "            \n",
    "\n",
    "        self.celltypes.append(celltype)\n",
    "        \n",
    "\n",
    "\n",
    "# test adding the first list of DEGs\n",
    "df1 = pd.DataFrame({'fc': [     -3, -2, -1,  0,  0,  0,  0, .5, 1.5, 2.5, 0.1]},\n",
    "                         index=['a','b','c','d','e','f','g','h','i', 'j', 'k'])\n",
    "\n",
    "df2 = pd.DataFrame({'fc': [     -3, -2, -1, 0,   0,  0,  0, .5, 1.5, 2.5, 0.1]},\n",
    "                         index=['d','b','c','a','e','j','g','h','i', 'f', 'k'])\n",
    "\n",
    "\n",
    "deg_dict = {'celltype1': df1, 'celltype2': df2}\n",
    "\n",
    "test = DegIntersection(deg_dict=deg_dict, n=3, frac=.5)\n",
    "\n",
    "assert test.celltypes==['celltype1', 'celltype2'], 'self.celltpye is incorrect'\n",
    "\n",
    "test.compute_deg_conservation()\n",
    "assert test.genes_down['a'] == 1\n",
    "assert test.genes_down['b'] == 2\n",
    "assert test.genes_down['d'] == 1\n",
    "assert test.genes_down['e'] == 0\n",
    "\n",
    "assert test.genes_up['j'] == 1\n",
    "assert test.genes_up['k'] == 0\n",
    "assert test.genes_up['i'] == 2\n",
    "assert test.genes_up['f'] == 1\n",
    "assert test.genes_up['h'] == 2\n",
    "\n",
    "# manually check the writing\n",
    "test.write_conserved_genes(fname='.test')\n",
    "\n",
    "            \n",
    "        "
   ]
  },
  {
   "cell_type": "markdown",
   "metadata": {},
   "source": [
    "Now create a `DegIntersection` object for the MSC data from MSCs from different tissues"
   ]
  },
  {
   "cell_type": "code",
   "execution_count": 183,
   "metadata": {},
   "outputs": [],
   "source": [
    "msc_degs = DegIntersection(de_msc_facs, n=1000, frac=0.8)\n",
    "msc_degs.compute_deg_conservation()\n",
    "msc_degs.write_conserved_genes(fname='conserved_msc_aging_strict')"
   ]
  },
  {
   "cell_type": "code",
   "execution_count": 185,
   "metadata": {},
   "outputs": [],
   "source": [
    "msc_degs = DegIntersection(de_msc_facs, n=2500, frac=0.8)\n",
    "msc_degs.compute_deg_conservation()\n",
    "msc_degs.write_conserved_genes(fname='conserved_msc_aging_loose')"
   ]
  },
  {
   "cell_type": "code",
   "execution_count": null,
   "metadata": {},
   "outputs": [],
   "source": []
  }
 ],
 "metadata": {
  "kernelspec": {
   "display_name": "Python 3",
   "language": "python",
   "name": "python3"
  },
  "language_info": {
   "codemirror_mode": {
    "name": "ipython",
    "version": 3
   },
   "file_extension": ".py",
   "mimetype": "text/x-python",
   "name": "python",
   "nbconvert_exporter": "python",
   "pygments_lexer": "ipython3",
   "version": "3.8.5"
  }
 },
 "nbformat": 4,
 "nbformat_minor": 4
}
