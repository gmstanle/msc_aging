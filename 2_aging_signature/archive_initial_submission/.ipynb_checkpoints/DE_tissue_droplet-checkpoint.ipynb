{
 "cells": [
  {
   "cell_type": "code",
   "execution_count": 1,
   "metadata": {},
   "outputs": [
    {
     "name": "stderr",
     "output_type": "stream",
     "text": [
      "/home/martin/anaconda3/lib/python3.6/site-packages/sklearn/externals/joblib/__init__.py:15: DeprecationWarning: sklearn.externals.joblib is deprecated in 0.21 and will be removed in 0.23. Please import this functionality directly from joblib, which can be installed with: pip install joblib. If this warning is raised when loading pickled models, you may need to re-serialize those models with scikit-learn 0.21+.\n",
      "  warnings.warn(msg, category=DeprecationWarning)\n"
     ]
    }
   ],
   "source": [
    "import pandas as pd\n",
    "import matplotlib.pyplot as plt\n",
    "import seaborn as sns\n",
    "sns.set(style=\"whitegrid\")\n",
    "import numpy as np\n",
    "import scanpy.api as sc\n",
    "from anndata import read_h5ad\n",
    "from anndata import AnnData\n",
    "import scipy as sp\n",
    "import scipy.stats\n",
    "from gprofiler import GProfiler\n",
    "import pickle\n",
    "# Other specific functions \n",
    "from itertools import product\n",
    "from statsmodels.stats.multitest import multipletests\n",
    "import util\n",
    "# R related packages \n",
    "import rpy2.rinterface_lib.callbacks\n",
    "import logging\n",
    "from rpy2.robjects import pandas2ri\n",
    "import anndata2ri"
   ]
  },
  {
   "cell_type": "code",
   "execution_count": 2,
   "metadata": {},
   "outputs": [
    {
     "name": "stdout",
     "output_type": "stream",
     "text": [
      "scanpy==1.4.3 anndata==0.6.20 umap==0.3.8 numpy==1.16.4 scipy==1.2.1 pandas==0.25.0 scikit-learn==0.21.1 statsmodels==0.9.0 python-igraph==0.7.1 louvain==0.6.1 \n"
     ]
    }
   ],
   "source": [
    "# Ignore R warning messages\n",
    "#Note: this can be commented out to get more verbose R output\n",
    "rpy2.rinterface_lib.callbacks.logger.setLevel(logging.ERROR)\n",
    "# Automatically convert rpy2 outputs to pandas dataframes\n",
    "pandas2ri.activate()\n",
    "anndata2ri.activate()\n",
    "%load_ext rpy2.ipython\n",
    "# autoreload\n",
    "%load_ext autoreload\n",
    "%autoreload 2\n",
    "# logging\n",
    "sc.logging.print_versions()"
   ]
  },
  {
   "cell_type": "code",
   "execution_count": 3,
   "metadata": {},
   "outputs": [],
   "source": [
    "%%R\n",
    "library(MAST)"
   ]
  },
  {
   "cell_type": "markdown",
   "metadata": {},
   "source": [
    "## Load data"
   ]
  },
  {
   "cell_type": "code",
   "execution_count": 4,
   "metadata": {},
   "outputs": [],
   "source": [
    "# Data path\n",
    "data_path = '/data3/martin/tms_gene_data'\n",
    "output_folder = data_path + '/DE_result'"
   ]
  },
  {
   "cell_type": "code",
   "execution_count": 5,
   "metadata": {},
   "outputs": [],
   "source": [
    "# Load the data \n",
    "adata_combine = util.load_normalized_data(data_path)"
   ]
  },
  {
   "cell_type": "code",
   "execution_count": 6,
   "metadata": {},
   "outputs": [],
   "source": [
    "temp_facs = adata_combine[adata_combine.obs['b_method']=='facs',]\n",
    "temp_droplet = adata_combine[adata_combine.obs['b_method']=='droplet',]"
   ]
  },
  {
   "cell_type": "markdown",
   "metadata": {},
   "source": [
    "## Generate a list of tissues for DE testing"
   ]
  },
  {
   "cell_type": "code",
   "execution_count": 7,
   "metadata": {},
   "outputs": [
    {
     "name": "stdout",
     "output_type": "stream",
     "text": [
      "Tongue, n_young=12044, n_old=8613\n",
      "Heart_and_Aorta, n_young=1362, n_old=6554\n",
      "Lung, n_young=6541, n_old=21216\n",
      "Spleen, n_young=7844, n_old=21478\n",
      "Liver, n_young=3234, n_old=3246\n",
      "Bladder, n_young=3450, n_old=5367\n",
      "Limb_Muscle, n_young=8210, n_old=16759\n",
      "Thymus, n_young=1145, n_old=6425\n",
      "Kidney, n_young=4317, n_old=14784\n",
      "Marrow, n_young=6842, n_old=35099\n",
      "Mammary_Gland, n_young=4343, n_old=7049\n"
     ]
    }
   ],
   "source": [
    "tissue_list = list(set(temp_droplet.obs['tissue']))\n",
    "min_cell_number = 1\n",
    "analysis_list = []\n",
    "analysis_info = {}\n",
    "# for cell_type in cell_type_list:\n",
    "for tissue in tissue_list:\n",
    "    analyte = tissue\n",
    "    ind_select = (temp_droplet.obs['tissue'] == tissue)\n",
    "    n_young = (temp_droplet.obs['age'][ind_select].isin(['1m', '3m'])).sum()\n",
    "    n_old = (temp_droplet.obs['age'][ind_select].isin(['18m', '21m',\n",
    "                                                   '24m', '30m'])).sum()\n",
    "    analysis_info[analyte] = {}\n",
    "    analysis_info[analyte]['n_young'] = n_young\n",
    "    analysis_info[analyte]['n_old'] = n_old\n",
    "    if (n_young>min_cell_number) & (n_old>min_cell_number):\n",
    "        print('%s, n_young=%d, n_old=%d'%(analyte, n_young, n_old))\n",
    "        analysis_list.append(analyte)"
   ]
  },
  {
   "cell_type": "markdown",
   "metadata": {},
   "source": [
    "### DE using R package MAST "
   ]
  },
  {
   "cell_type": "code",
   "execution_count": 8,
   "metadata": {},
   "outputs": [
    {
     "name": "stdout",
     "output_type": "stream",
     "text": [
      "Tongue 0/11\n",
      "Heart_and_Aorta 1/11\n",
      "Lung 2/11\n",
      "Spleen 3/11\n",
      "Liver 4/11\n",
      "Bladder 5/11\n",
      "Limb_Muscle 6/11\n",
      "Thymus 7/11\n",
      "Kidney 8/11\n",
      "Marrow 9/11\n",
      "Mammary_Gland 10/11\n"
     ]
    }
   ],
   "source": [
    "## DE testing\n",
    "gene_name_list = np.array(temp_droplet.var_names)\n",
    "DE_result_MAST = {}\n",
    "for i_analyte,analyte in enumerate(analysis_list):\n",
    "    print(analyte, '%d/%d'%(i_analyte, len(analysis_list)))\n",
    "    tissue = analyte\n",
    "    ind_select = (temp_droplet.obs['tissue'] == tissue)\n",
    "    adata_temp = temp_droplet[ind_select,]\n",
    "    # reformatting\n",
    "    adata_temp.X = np.array(adata_temp.X.todense())\n",
    "    adata_temp.obs['condition'] = [int(x[:-1]) for x in adata_temp.obs['age']] \n",
    "    adata_temp.obs = adata_temp.obs[['condition', 'sex']]\n",
    "    if len(set(adata_temp.obs['sex'])) <2:\n",
    "        covariate = ''\n",
    "    else:\n",
    "        covariate = '+sex'\n",
    "#     # toy example\n",
    "#     covariate = ''\n",
    "#     np.random.seed(0)\n",
    "#     ind_select = np.random.permutation(adata_temp.shape[0])[0:100]\n",
    "#     ind_select = np.sort(ind_select)\n",
    "#     adata_temp = adata_temp[ind_select, 0:3]\n",
    "#     adata_temp.X[:,0] = (adata_temp.obs['sex'] == 'male')*3\n",
    "#     adata_temp.X[:,1] = (adata_temp.obs['condition'])*3\n",
    "    # DE using MAST \n",
    "    R_cmd = util.call_MAST_age()\n",
    "    get_ipython().run_cell_magic(u'R', u'-i adata_temp -i covariate -o de_res', R_cmd)\n",
    "    de_res.columns = ['gene', 'raw-p', 'coef', 'bh-p']\n",
    "    de_res.index = de_res['gene']\n",
    "    DE_result_MAST[analyte] = pd.DataFrame(index = gene_name_list)\n",
    "    DE_result_MAST[analyte] = DE_result_MAST[analyte].join(de_res)\n",
    "    # fc between yound and old\n",
    "    X = adata_temp.X\n",
    "    y = (adata_temp.obs['condition']>10)\n",
    "    DE_result_MAST[analyte]['fc'] = X[y,:].mean(axis=0) - X[~y,:].mean(axis=0)\n",
    "#     break"
   ]
  },
  {
   "cell_type": "markdown",
   "metadata": {},
   "source": [
    "### Save DE results"
   ]
  },
  {
   "cell_type": "code",
   "execution_count": 9,
   "metadata": {},
   "outputs": [],
   "source": [
    "with open(output_folder+'/DE_tissue_droplet.pickle', 'wb') as handle:\n",
    "    pickle.dump(DE_result_MAST, handle)\n",
    "    pickle.dump(analysis_list, handle)\n",
    "    pickle.dump(analysis_info, handle)"
   ]
  },
  {
   "cell_type": "code",
   "execution_count": null,
   "metadata": {},
   "outputs": [],
   "source": []
  }
 ],
 "metadata": {
  "kernelspec": {
   "display_name": "Python 3",
   "language": "python",
   "name": "python3"
  },
  "language_info": {
   "codemirror_mode": {
    "name": "ipython",
    "version": 3
   },
   "file_extension": ".py",
   "mimetype": "text/x-python",
   "name": "python",
   "nbconvert_exporter": "python",
   "pygments_lexer": "ipython3",
   "version": "3.6.8"
  }
 },
 "nbformat": 4,
 "nbformat_minor": 2
}
