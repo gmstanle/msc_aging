{
 "cells": [
  {
   "cell_type": "code",
   "execution_count": 1,
   "metadata": {},
   "outputs": [
    {
     "name": "stderr",
     "output_type": "stream",
     "text": [
      "/home/martin/anaconda3/lib/python3.6/site-packages/sklearn/externals/joblib/__init__.py:15: DeprecationWarning: sklearn.externals.joblib is deprecated in 0.21 and will be removed in 0.23. Please import this functionality directly from joblib, which can be installed with: pip install joblib. If this warning is raised when loading pickled models, you may need to re-serialize those models with scikit-learn 0.21+.\n",
      "  warnings.warn(msg, category=DeprecationWarning)\n"
     ]
    }
   ],
   "source": [
    "import pandas as pd\n",
    "import matplotlib.pyplot as plt\n",
    "import seaborn as sns\n",
    "sns.set(style=\"whitegrid\")\n",
    "import numpy as np\n",
    "import scanpy.api as sc\n",
    "from anndata import read_h5ad\n",
    "from anndata import AnnData\n",
    "import scipy as sp\n",
    "import scipy.stats\n",
    "from gprofiler import GProfiler\n",
    "import pickle\n",
    "# Other specific functions \n",
    "from itertools import product\n",
    "from statsmodels.stats.multitest import multipletests\n",
    "import util\n",
    "# R related packages \n",
    "import rpy2.rinterface_lib.callbacks\n",
    "import logging\n",
    "from rpy2.robjects import pandas2ri\n",
    "import anndata2ri"
   ]
  },
  {
   "cell_type": "code",
   "execution_count": 2,
   "metadata": {},
   "outputs": [
    {
     "name": "stdout",
     "output_type": "stream",
     "text": [
      "scanpy==1.4.3 anndata==0.6.20 umap==0.3.8 numpy==1.16.4 scipy==1.2.1 pandas==0.25.0 scikit-learn==0.21.1 statsmodels==0.9.0 python-igraph==0.7.1 louvain==0.6.1 \n"
     ]
    }
   ],
   "source": [
    "# Ignore R warning messages\n",
    "#Note: this can be commented out to get more verbose R output\n",
    "rpy2.rinterface_lib.callbacks.logger.setLevel(logging.ERROR)\n",
    "# Automatically convert rpy2 outputs to pandas dataframes\n",
    "pandas2ri.activate()\n",
    "anndata2ri.activate()\n",
    "%load_ext rpy2.ipython\n",
    "# autoreload\n",
    "%load_ext autoreload\n",
    "%autoreload 2\n",
    "# logging\n",
    "sc.logging.print_versions()"
   ]
  },
  {
   "cell_type": "code",
   "execution_count": 3,
   "metadata": {},
   "outputs": [],
   "source": [
    "%%R\n",
    "library(MAST)"
   ]
  },
  {
   "cell_type": "markdown",
   "metadata": {},
   "source": [
    "## Load data"
   ]
  },
  {
   "cell_type": "code",
   "execution_count": 4,
   "metadata": {},
   "outputs": [],
   "source": [
    "# Data path\n",
    "data_path = '/data3/martin/tms_gene_data'\n",
    "output_folder = data_path + '/DE_result'"
   ]
  },
  {
   "cell_type": "code",
   "execution_count": 5,
   "metadata": {},
   "outputs": [],
   "source": [
    "# Load the data \n",
    "adata_combine = util.load_normalized_data(data_path)"
   ]
  },
  {
   "cell_type": "code",
   "execution_count": 6,
   "metadata": {},
   "outputs": [],
   "source": [
    "temp_facs = adata_combine[adata_combine.obs['b_method']=='facs',]\n",
    "temp_droplet = adata_combine[adata_combine.obs['b_method']=='droplet',]"
   ]
  },
  {
   "cell_type": "markdown",
   "metadata": {},
   "source": [
    "## Generate a list of tissue-cell types for DE testing"
   ]
  },
  {
   "cell_type": "code",
   "execution_count": 7,
   "metadata": {},
   "outputs": [
    {
     "name": "stdout",
     "output_type": "stream",
     "text": [
      "Heart_and_Aorta.endothelial cell of coronary artery, n_young=422, n_old=2526\n",
      "Heart_and_Aorta.smooth muscle cell, n_young=110, n_old=263\n",
      "Heart_and_Aorta.fibroblast of cardiac tissue, n_young=471, n_old=1901\n",
      "Heart_and_Aorta.leukocyte, n_young=138, n_old=771\n",
      "Thymus.double negative T cell, n_young=147, n_old=640\n",
      "Thymus.thymocyte, n_young=696, n_old=1929\n",
      "Thymus.DN4 thymocyte, n_young=238, n_old=1530\n",
      "Spleen.B cell, n_young=5431, n_old=13845\n",
      "Spleen.NK cell, n_young=159, n_old=264\n",
      "Spleen.macrophage, n_young=482, n_old=1370\n",
      "Spleen.T cell, n_young=1653, n_old=3473\n",
      "Kidney.kidney cortex artery cell, n_young=153, n_old=275\n",
      "Kidney.fenestrated cell, n_young=348, n_old=512\n",
      "Kidney.kidney collecting duct principal cell, n_young=187, n_old=561\n",
      "Kidney.podocyte, n_young=186, n_old=301\n",
      "Kidney.kidney distal convoluted tubule epithelial cell, n_young=205, n_old=457\n",
      "Kidney.kidney proximal convoluted tubule epithelial cell, n_young=1636, n_old=2813\n",
      "Kidney.macrophage, n_young=191, n_old=1128\n",
      "Kidney.kidney loop of Henle thick ascending limb epithelial cell, n_young=785, n_old=803\n",
      "Kidney.epithelial cell of proximal tubule, n_young=223, n_old=2293\n",
      "Bladder.bladder cell, n_young=1827, n_old=1062\n",
      "Bladder.endothelial cell, n_young=174, n_old=166\n",
      "Bladder.bladder urothelial cell, n_young=1352, n_old=3894\n",
      "Lung.dendritic cell, n_young=156, n_old=269\n",
      "Lung.mature natural killer T cell, n_young=450, n_old=1546\n",
      "Lung.capillary endothelial cell, n_young=592, n_old=2076\n",
      "Lung.intermediate monocyte, n_young=767, n_old=1239\n",
      "Lung.classical monocyte, n_young=485, n_old=1801\n",
      "Lung.fibroblast of lung, n_young=1194, n_old=582\n",
      "Lung.alveolar macrophage, n_young=893, n_old=705\n",
      "Lung.B cell, n_young=248, n_old=918\n",
      "Lung.natural killer cell, n_young=462, n_old=419\n",
      "Limb_Muscle.skeletal muscle satellite cell, n_young=850, n_old=1058\n",
      "Limb_Muscle.endothelial cell, n_young=1599, n_old=3168\n",
      "Limb_Muscle.mesenchymal stem cell, n_young=3798, n_old=8781\n",
      "Limb_Muscle.B cell, n_young=374, n_old=660\n",
      "Limb_Muscle.smooth muscle cell, n_young=396, n_old=530\n",
      "Limb_Muscle.macrophage, n_young=538, n_old=1766\n",
      "Limb_Muscle.T cell, n_young=542, n_old=571\n",
      "Liver.endothelial cell of hepatic sinusoid, n_young=357, n_old=125\n",
      "Liver.NK cell, n_young=210, n_old=250\n",
      "Liver.hepatocyte, n_young=2067, n_old=510\n",
      "Liver.Kupffer cell, n_young=503, n_old=1884\n",
      "Marrow.hematopoietic precursor cell, n_young=452, n_old=1692\n",
      "Marrow.nan-marrow-needs-subclustering, n_young=197, n_old=579\n",
      "Marrow.precursor B cell, n_young=377, n_old=538\n",
      "Marrow.naive T cell, n_young=298, n_old=1270\n",
      "Marrow.proerythroblast, n_young=313, n_old=3300\n",
      "Marrow.promonocyte, n_young=414, n_old=2413\n",
      "Marrow.granulocyte, n_young=1409, n_old=9647\n",
      "Marrow.granulocytopoietic cell, n_young=1476, n_old=6123\n",
      "Marrow.macrophage, n_young=180, n_old=808\n",
      "Marrow.megakaryocyte-erythroid progenitor cell, n_young=288, n_old=1586\n",
      "Marrow.erythroblast, n_young=244, n_old=2116\n",
      "Marrow.monocyte, n_young=778, n_old=1615\n",
      "Mammary_Gland.endothelial cell, n_young=249, n_old=347\n",
      "Mammary_Gland.stromal cell, n_young=626, n_old=1996\n",
      "Mammary_Gland.B cell, n_young=630, n_old=690\n",
      "Mammary_Gland.luminal epithelial cell of mammary gland, n_young=474, n_old=1396\n",
      "Mammary_Gland.macrophage, n_young=166, n_old=356\n",
      "Mammary_Gland.basal cell, n_young=400, n_old=1078\n",
      "Mammary_Gland.T cell, n_young=1798, n_old=1186\n"
     ]
    }
   ],
   "source": [
    "cell_type_list = list(set(temp_droplet.obs['cell_ontology_class']))\n",
    "tissue_list = list(set(temp_droplet.obs['tissue']))\n",
    "min_cell_number = 100\n",
    "analysis_list = []\n",
    "analysis_info = {}\n",
    "# for cell_type in cell_type_list:\n",
    "for tissue,cell_type in product(tissue_list, cell_type_list):\n",
    "    analyte = '%s.%s'%(tissue,cell_type)\n",
    "    ind_select = (temp_droplet.obs['cell_ontology_class'] == cell_type) & \\\n",
    "                    (temp_droplet.obs['tissue'] == tissue)\n",
    "    n_young = (temp_droplet.obs['age'][ind_select].isin(['1m', '3m'])).sum()\n",
    "    n_old = (temp_droplet.obs['age'][ind_select].isin(['18m', '21m',\n",
    "                                                   '24m', '30m'])).sum()\n",
    "    analysis_info[analyte] = {}\n",
    "    analysis_info[analyte]['n_young'] = n_young\n",
    "    analysis_info[analyte]['n_old'] = n_old\n",
    "    if (n_young>min_cell_number) & (n_old>min_cell_number) & (cell_type!='nan'):\n",
    "        print('%s, n_young=%d, n_old=%d'%(analyte, n_young, n_old))\n",
    "        analysis_list.append(analyte)"
   ]
  },
  {
   "cell_type": "markdown",
   "metadata": {},
   "source": [
    "### DE using R package MAST "
   ]
  },
  {
   "cell_type": "code",
   "execution_count": 8,
   "metadata": {},
   "outputs": [
    {
     "name": "stdout",
     "output_type": "stream",
     "text": [
      "Heart_and_Aorta.endothelial cell of coronary artery 0/62\n",
      "Heart_and_Aorta.smooth muscle cell 1/62\n",
      "Heart_and_Aorta.fibroblast of cardiac tissue 2/62\n",
      "Heart_and_Aorta.leukocyte 3/62\n",
      "Thymus.double negative T cell 4/62\n",
      "Thymus.thymocyte 5/62\n",
      "Thymus.DN4 thymocyte 6/62\n",
      "Spleen.B cell 7/62\n",
      "Spleen.NK cell 8/62\n",
      "Spleen.macrophage 9/62\n",
      "Spleen.T cell 10/62\n",
      "Kidney.kidney cortex artery cell 11/62\n",
      "Kidney.fenestrated cell 12/62\n",
      "Kidney.kidney collecting duct principal cell 13/62\n",
      "Kidney.podocyte 14/62\n",
      "Kidney.kidney distal convoluted tubule epithelial cell 15/62\n",
      "Kidney.kidney proximal convoluted tubule epithelial cell 16/62\n",
      "Kidney.macrophage 17/62\n",
      "Kidney.kidney loop of Henle thick ascending limb epithelial cell 18/62\n",
      "Kidney.epithelial cell of proximal tubule 19/62\n",
      "Bladder.bladder cell 20/62\n",
      "Bladder.endothelial cell 21/62\n",
      "Bladder.bladder urothelial cell 22/62\n",
      "Lung.dendritic cell 23/62\n",
      "Lung.mature natural killer T cell 24/62\n",
      "Lung.capillary endothelial cell 25/62\n",
      "Lung.intermediate monocyte 26/62\n",
      "Lung.classical monocyte 27/62\n",
      "Lung.fibroblast of lung 28/62\n",
      "Lung.alveolar macrophage 29/62\n",
      "Lung.B cell 30/62\n",
      "Lung.natural killer cell 31/62\n",
      "Limb_Muscle.skeletal muscle satellite cell 32/62\n",
      "Limb_Muscle.endothelial cell 33/62\n",
      "Limb_Muscle.mesenchymal stem cell 34/62\n",
      "Limb_Muscle.B cell 35/62\n",
      "Limb_Muscle.smooth muscle cell 36/62\n",
      "Limb_Muscle.macrophage 37/62\n",
      "Limb_Muscle.T cell 38/62\n",
      "Liver.endothelial cell of hepatic sinusoid 39/62\n",
      "Liver.NK cell 40/62\n",
      "Liver.hepatocyte 41/62\n",
      "Liver.Kupffer cell 42/62\n",
      "Marrow.hematopoietic precursor cell 43/62\n",
      "Marrow.nan-marrow-needs-subclustering 44/62\n",
      "Marrow.precursor B cell 45/62\n",
      "Marrow.naive T cell 46/62\n",
      "Marrow.proerythroblast 47/62\n",
      "Marrow.promonocyte 48/62\n",
      "Marrow.granulocyte 49/62\n",
      "Marrow.granulocytopoietic cell 50/62\n",
      "Marrow.macrophage 51/62\n",
      "Marrow.megakaryocyte-erythroid progenitor cell 52/62\n",
      "Marrow.erythroblast 53/62\n",
      "Marrow.monocyte 54/62\n",
      "Mammary_Gland.endothelial cell 55/62\n",
      "Mammary_Gland.stromal cell 56/62\n",
      "Mammary_Gland.B cell 57/62\n",
      "Mammary_Gland.luminal epithelial cell of mammary gland 58/62\n",
      "Mammary_Gland.macrophage 59/62\n",
      "Mammary_Gland.basal cell 60/62\n",
      "Mammary_Gland.T cell 61/62\n"
     ]
    }
   ],
   "source": [
    "## DE testing\n",
    "gene_name_list = np.array(temp_droplet.var_names)\n",
    "DE_result_MAST = {}\n",
    "for i_analyte,analyte in enumerate(analysis_list):\n",
    "    print(analyte, '%d/%d'%(i_analyte, len(analysis_list)))\n",
    "    tissue,cell_type = analyte.split('.')\n",
    "    ind_select = (temp_droplet.obs['cell_ontology_class'] == cell_type) & \\\n",
    "                    (temp_droplet.obs['tissue'] == tissue)\n",
    "    adata_temp = temp_droplet[ind_select,]\n",
    "    # reformatting\n",
    "    adata_temp.X = np.array(adata_temp.X.todense())\n",
    "    adata_temp.obs['condition'] = [int(x[:-1]) for x in adata_temp.obs['age']] \n",
    "    adata_temp.obs = adata_temp.obs[['condition', 'sex']]\n",
    "    if len(set(adata_temp.obs['sex'])) <2:\n",
    "        covariate = ''\n",
    "    else:\n",
    "        covariate = '+sex'\n",
    "#     # toy example\n",
    "#     covariate = ''\n",
    "#     np.random.seed(0)\n",
    "#     ind_select = np.random.permutation(adata_temp.shape[0])[0:100]\n",
    "#     ind_select = np.sort(ind_select)\n",
    "#     adata_temp = adata_temp[ind_select, 0:3]\n",
    "#     adata_temp.X[:,0] = (adata_temp.obs['sex'] == 'male')*3\n",
    "#     adata_temp.X[:,1] = (adata_temp.obs['condition'])*3\n",
    "    # DE using MAST \n",
    "    R_cmd = util.call_MAST_age()\n",
    "    get_ipython().run_cell_magic(u'R', u'-i adata_temp -i covariate -o de_res', R_cmd)\n",
    "    de_res.columns = ['gene', 'raw-p', 'coef', 'bh-p']\n",
    "    de_res.index = de_res['gene']\n",
    "    DE_result_MAST[analyte] = pd.DataFrame(index = gene_name_list)\n",
    "    DE_result_MAST[analyte] = DE_result_MAST[analyte].join(de_res)\n",
    "    # fc between yound and old\n",
    "    X = adata_temp.X\n",
    "    y = (adata_temp.obs['condition']>10)\n",
    "    DE_result_MAST[analyte]['fc'] = X[y,:].mean(axis=0) - X[~y,:].mean(axis=0)\n",
    "#     break"
   ]
  },
  {
   "cell_type": "code",
   "execution_count": 9,
   "metadata": {},
   "outputs": [
    {
     "data": {
      "text/plain": [
       "62"
      ]
     },
     "execution_count": 9,
     "metadata": {},
     "output_type": "execute_result"
    }
   ],
   "source": [
    "len(DE_result_MAST.keys())"
   ]
  },
  {
   "cell_type": "markdown",
   "metadata": {},
   "source": [
    "### Save DE results"
   ]
  },
  {
   "cell_type": "code",
   "execution_count": 10,
   "metadata": {},
   "outputs": [],
   "source": [
    "with open(output_folder+'/DE_tissue_cell_droplet.pickle', 'wb') as handle:\n",
    "    pickle.dump(DE_result_MAST, handle)\n",
    "    pickle.dump(analysis_list, handle)\n",
    "    pickle.dump(analysis_info, handle)"
   ]
  },
  {
   "cell_type": "markdown",
   "metadata": {},
   "source": [
    "### Validation"
   ]
  },
  {
   "cell_type": "code",
   "execution_count": 28,
   "metadata": {},
   "outputs": [
    {
     "name": "stdout",
     "output_type": "stream",
     "text": [
      "Lung.fibroblast of lung, New:1106, Old:508, Overlap:478\n",
      "Lung.capillary endothelial cell, New:1086, Old:1106, Overlap:1064\n",
      "Liver.hepatocyte, New:5064, Old:1350, Overlap:1275\n",
      "Spleen.T cell, New:6438, Old:6088, Overlap:5945\n",
      "Spleen.B cell, New:4453, Old:4815, Overlap:4118\n",
      "Limb_Muscle.mesenchymal stem cell, New:11837, Old:11950, Overlap:11785\n",
      "Limb_Muscle.macrophage, New:4130, Old:2124, Overlap:2080\n",
      "Limb_Muscle.T cell, New:689, Old:549, Overlap:489\n",
      "Limb_Muscle.skeletal muscle satellite cell, New:5989, Old:6013, Overlap:5881\n",
      "Limb_Muscle.endothelial cell, New:1653, Old:1699, Overlap:1563\n",
      "Thymus.thymocyte, New:122, Old:131, Overlap:105\n",
      "Marrow.granulocytopoietic cell, New:10373, Old:10065, Overlap:9909\n",
      "Marrow.granulocyte, New:5549, Old:6094, Overlap:5290\n",
      "Bladder.bladder cell, New:10150, Old:9587, Overlap:9547\n",
      "Bladder.bladder urothelial cell, New:5571, Old:4007, Overlap:3623\n"
     ]
    }
   ],
   "source": [
    "# Load DE result\n",
    "with open(output_folder+'_old/DE_droplet.pickle', 'rb') as handle:\n",
    "    DE_result_MAST_temp = pickle.load(handle)\n",
    "    analysis_list_temp = pickle.load(handle)\n",
    "for analyte in analysis_list:\n",
    "    if analyte in analysis_list_temp:\n",
    "        bh_p = DE_result_MAST[analyte]['bh-p']\n",
    "        bh_p_temp = DE_result_MAST_temp[analyte]['bh-p']\n",
    "        print('%s, New:%d, Old:%d, Overlap:%d'%(analyte, np.sum(bh_p<0.01), \n",
    "                                            np.sum(bh_p_temp<0.01), \n",
    "                                            np.sum((bh_p<0.01) & (bh_p_temp<0.01))))"
   ]
  },
  {
   "cell_type": "code",
   "execution_count": null,
   "metadata": {},
   "outputs": [],
   "source": []
  }
 ],
 "metadata": {
  "kernelspec": {
   "display_name": "Python 3",
   "language": "python",
   "name": "python3"
  },
  "language_info": {
   "codemirror_mode": {
    "name": "ipython",
    "version": 3
   },
   "file_extension": ".py",
   "mimetype": "text/x-python",
   "name": "python",
   "nbconvert_exporter": "python",
   "pygments_lexer": "ipython3",
   "version": "3.6.8"
  }
 },
 "nbformat": 4,
 "nbformat_minor": 2
}
