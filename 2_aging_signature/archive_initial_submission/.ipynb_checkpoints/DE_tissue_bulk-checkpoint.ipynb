{
 "cells": [
  {
   "cell_type": "code",
   "execution_count": 1,
   "metadata": {},
   "outputs": [
    {
     "name": "stderr",
     "output_type": "stream",
     "text": [
      "/home/martin/anaconda3/lib/python3.6/site-packages/sklearn/externals/joblib/__init__.py:15: DeprecationWarning: sklearn.externals.joblib is deprecated in 0.21 and will be removed in 0.23. Please import this functionality directly from joblib, which can be installed with: pip install joblib. If this warning is raised when loading pickled models, you may need to re-serialize those models with scikit-learn 0.21+.\n",
      "  warnings.warn(msg, category=DeprecationWarning)\n"
     ]
    }
   ],
   "source": [
    "import pandas as pd\n",
    "import matplotlib.pyplot as plt\n",
    "import seaborn as sns\n",
    "sns.set(style=\"whitegrid\")\n",
    "import numpy as np\n",
    "import scanpy.api as sc\n",
    "from anndata import read_h5ad\n",
    "from anndata import AnnData\n",
    "import scipy as sp\n",
    "import scipy.stats\n",
    "from gprofiler import GProfiler\n",
    "import pickle\n",
    "# Other specific functions \n",
    "from itertools import product\n",
    "from statsmodels.stats.multitest import multipletests\n",
    "import util\n",
    "# R related packages \n",
    "import rpy2.rinterface_lib.callbacks\n",
    "import logging\n",
    "from rpy2.robjects import pandas2ri\n",
    "import anndata2ri"
   ]
  },
  {
   "cell_type": "code",
   "execution_count": 2,
   "metadata": {},
   "outputs": [
    {
     "name": "stdout",
     "output_type": "stream",
     "text": [
      "scanpy==1.4.3 anndata==0.6.20 umap==0.3.8 numpy==1.16.4 scipy==1.2.1 pandas==0.25.0 scikit-learn==0.21.1 statsmodels==0.9.0 python-igraph==0.7.1 louvain==0.6.1 \n"
     ]
    }
   ],
   "source": [
    "# Ignore R warning messages\n",
    "#Note: this can be commented out to get more verbose R output\n",
    "rpy2.rinterface_lib.callbacks.logger.setLevel(logging.ERROR)\n",
    "# Automatically convert rpy2 outputs to pandas dataframes\n",
    "pandas2ri.activate()\n",
    "anndata2ri.activate()\n",
    "%load_ext rpy2.ipython\n",
    "# autoreload\n",
    "%load_ext autoreload\n",
    "%autoreload 2\n",
    "# logging\n",
    "sc.logging.print_versions()"
   ]
  },
  {
   "cell_type": "code",
   "execution_count": 3,
   "metadata": {},
   "outputs": [],
   "source": [
    "%%R\n",
    "library(MAST)"
   ]
  },
  {
   "cell_type": "markdown",
   "metadata": {
    "slideshow": {
     "slide_type": "-"
    }
   },
   "source": [
    "## Load data"
   ]
  },
  {
   "cell_type": "code",
   "execution_count": 4,
   "metadata": {},
   "outputs": [],
   "source": [
    "# Data path\n",
    "data_path = '/data3/martin/tms_gene_data'\n",
    "output_folder = data_path + '/DE_result'"
   ]
  },
  {
   "cell_type": "code",
   "execution_count": 5,
   "metadata": {},
   "outputs": [
    {
     "name": "stderr",
     "output_type": "stream",
     "text": [
      "Trying to set attribute `.obs` of view, making a copy.\n"
     ]
    }
   ],
   "source": [
    "# Load the data \n",
    "adata_bulk = util.load_normalized_data_bulk(data_path)"
   ]
  },
  {
   "cell_type": "code",
   "execution_count": 6,
   "metadata": {},
   "outputs": [],
   "source": [
    "temp_bulk = adata_bulk.copy()"
   ]
  },
  {
   "cell_type": "markdown",
   "metadata": {},
   "source": [
    "## DE, age, tissue, bulk"
   ]
  },
  {
   "cell_type": "code",
   "execution_count": 7,
   "metadata": {},
   "outputs": [
    {
     "name": "stdout",
     "output_type": "stream",
     "text": [
      "Gonadal_Fat, n_young=24, n_old=31\n",
      "Brown_Fat, n_young=23, n_old=31\n",
      "Kidney, n_young=23, n_old=32\n",
      "Brain, n_young=24, n_old=32\n",
      "Heart, n_young=21, n_old=31\n",
      "Subcutaneous_Fat, n_young=23, n_old=32\n",
      "Marrow, n_young=23, n_old=30\n",
      "Lung, n_young=23, n_old=32\n",
      "White_Blood_Cells, n_young=24, n_old=31\n",
      "Liver, n_young=24, n_old=30\n",
      "Spleen, n_young=24, n_old=32\n",
      "Small_Intestine, n_young=24, n_old=31\n",
      "Pancreas, n_young=24, n_old=32\n",
      "Limb_Muscle, n_young=23, n_old=31\n",
      "Mesenteric_Fat, n_young=24, n_old=32\n",
      "Bone, n_young=23, n_old=32\n",
      "Skin, n_young=23, n_old=28\n"
     ]
    }
   ],
   "source": [
    "# cell_type_list = list(set(temp_facs.obs['cell_ontology_class']))\n",
    "tissue_list = list(set(temp_bulk.obs['tissue']))\n",
    "min_cell_number = 1\n",
    "analysis_list = []\n",
    "analysis_info = {}\n",
    "# for cell_type in cell_type_list:\n",
    "for tissue in tissue_list:\n",
    "    analyte = tissue\n",
    "    ind_select = (temp_bulk.obs['tissue'] == tissue)\n",
    "    n_young = (temp_bulk.obs['age_num'][ind_select]<10).sum()\n",
    "    n_old = (temp_bulk.obs['age_num'][ind_select]>10).sum()\n",
    "    analysis_info[analyte] = {}\n",
    "    analysis_info[analyte]['n_young'] = n_young\n",
    "    analysis_info[analyte]['n_old'] = n_old\n",
    "    if (n_young>min_cell_number) & (n_old>min_cell_number):\n",
    "        print('%s, n_young=%d, n_old=%d'%(analyte, n_young, n_old))\n",
    "        analysis_list.append(analyte)"
   ]
  },
  {
   "cell_type": "markdown",
   "metadata": {},
   "source": [
    "### DE using R package MAST "
   ]
  },
  {
   "cell_type": "code",
   "execution_count": 9,
   "metadata": {},
   "outputs": [
    {
     "name": "stderr",
     "output_type": "stream",
     "text": [
      "Trying to set attribute `.obs` of view, making a copy.\n"
     ]
    },
    {
     "name": "stdout",
     "output_type": "stream",
     "text": [
      "Gonadal_Fat 0/17\n"
     ]
    },
    {
     "name": "stderr",
     "output_type": "stream",
     "text": [
      "Trying to set attribute `.obs` of view, making a copy.\n"
     ]
    },
    {
     "name": "stdout",
     "output_type": "stream",
     "text": [
      "Brown_Fat 1/17\n"
     ]
    },
    {
     "name": "stderr",
     "output_type": "stream",
     "text": [
      "Trying to set attribute `.obs` of view, making a copy.\n"
     ]
    },
    {
     "name": "stdout",
     "output_type": "stream",
     "text": [
      "Kidney 2/17\n"
     ]
    },
    {
     "name": "stderr",
     "output_type": "stream",
     "text": [
      "Trying to set attribute `.obs` of view, making a copy.\n"
     ]
    },
    {
     "name": "stdout",
     "output_type": "stream",
     "text": [
      "Brain 3/17\n"
     ]
    },
    {
     "name": "stderr",
     "output_type": "stream",
     "text": [
      "Trying to set attribute `.obs` of view, making a copy.\n"
     ]
    },
    {
     "name": "stdout",
     "output_type": "stream",
     "text": [
      "Heart 4/17\n"
     ]
    },
    {
     "name": "stderr",
     "output_type": "stream",
     "text": [
      "Trying to set attribute `.obs` of view, making a copy.\n"
     ]
    },
    {
     "name": "stdout",
     "output_type": "stream",
     "text": [
      "Subcutaneous_Fat 5/17\n"
     ]
    },
    {
     "name": "stderr",
     "output_type": "stream",
     "text": [
      "Trying to set attribute `.obs` of view, making a copy.\n"
     ]
    },
    {
     "name": "stdout",
     "output_type": "stream",
     "text": [
      "Marrow 6/17\n"
     ]
    },
    {
     "name": "stderr",
     "output_type": "stream",
     "text": [
      "Trying to set attribute `.obs` of view, making a copy.\n"
     ]
    },
    {
     "name": "stdout",
     "output_type": "stream",
     "text": [
      "Lung 7/17\n"
     ]
    },
    {
     "name": "stderr",
     "output_type": "stream",
     "text": [
      "Trying to set attribute `.obs` of view, making a copy.\n"
     ]
    },
    {
     "name": "stdout",
     "output_type": "stream",
     "text": [
      "White_Blood_Cells 8/17\n"
     ]
    },
    {
     "name": "stderr",
     "output_type": "stream",
     "text": [
      "Trying to set attribute `.obs` of view, making a copy.\n"
     ]
    },
    {
     "name": "stdout",
     "output_type": "stream",
     "text": [
      "Liver 9/17\n"
     ]
    },
    {
     "name": "stderr",
     "output_type": "stream",
     "text": [
      "Trying to set attribute `.obs` of view, making a copy.\n"
     ]
    },
    {
     "name": "stdout",
     "output_type": "stream",
     "text": [
      "Spleen 10/17\n"
     ]
    },
    {
     "name": "stderr",
     "output_type": "stream",
     "text": [
      "Trying to set attribute `.obs` of view, making a copy.\n"
     ]
    },
    {
     "name": "stdout",
     "output_type": "stream",
     "text": [
      "Small_Intestine 11/17\n"
     ]
    },
    {
     "name": "stderr",
     "output_type": "stream",
     "text": [
      "Trying to set attribute `.obs` of view, making a copy.\n"
     ]
    },
    {
     "name": "stdout",
     "output_type": "stream",
     "text": [
      "Pancreas 12/17\n"
     ]
    },
    {
     "name": "stderr",
     "output_type": "stream",
     "text": [
      "Trying to set attribute `.obs` of view, making a copy.\n"
     ]
    },
    {
     "name": "stdout",
     "output_type": "stream",
     "text": [
      "Limb_Muscle 13/17\n"
     ]
    },
    {
     "name": "stderr",
     "output_type": "stream",
     "text": [
      "Trying to set attribute `.obs` of view, making a copy.\n"
     ]
    },
    {
     "name": "stdout",
     "output_type": "stream",
     "text": [
      "Mesenteric_Fat 14/17\n"
     ]
    },
    {
     "name": "stderr",
     "output_type": "stream",
     "text": [
      "Trying to set attribute `.obs` of view, making a copy.\n"
     ]
    },
    {
     "name": "stdout",
     "output_type": "stream",
     "text": [
      "Bone 15/17\n"
     ]
    },
    {
     "name": "stderr",
     "output_type": "stream",
     "text": [
      "Trying to set attribute `.obs` of view, making a copy.\n"
     ]
    },
    {
     "name": "stdout",
     "output_type": "stream",
     "text": [
      "Skin 16/17\n"
     ]
    }
   ],
   "source": [
    "## DE testing\n",
    "gene_name_list = np.array(temp_bulk.var_names)\n",
    "DE_result_MAST = {}\n",
    "for i_analyte,analyte in enumerate(analysis_list):\n",
    "    print(analyte, '%d/%d'%(i_analyte, len(analysis_list)))\n",
    "    tissue = analyte\n",
    "#     tissue,cell_type = analyte.split('.')\n",
    "    ind_select = (temp_bulk.obs['tissue'] == tissue)\n",
    "    adata_temp = temp_bulk[ind_select,]\n",
    "    # reformatting\n",
    "#     adata_temp.X = np.array(adata_temp.X.todense())\n",
    "    adata_temp.X = np.array(adata_temp.X)\n",
    "    adata_temp.obs['condition'] = [int(x[:-1]) for x in adata_temp.obs['age']] \n",
    "    adata_temp.obs = adata_temp.obs[['condition', 'sex']]\n",
    "    if len(set(adata_temp.obs['sex'])) <2:\n",
    "        covariate = ''\n",
    "    else:\n",
    "        covariate = '+sex'\n",
    "#     # toy example\n",
    "#     covariate = ''\n",
    "#     np.random.seed(0)\n",
    "#     ind_select = np.random.permutation(adata_temp.shape[0])[0:100]\n",
    "#     ind_select = np.sort(ind_select)\n",
    "#     adata_temp = adata_temp[:, 0:3]\n",
    "#     adata_temp.X[:,0] = (adata_temp.obs['sex'] == 'male')*3\n",
    "#     adata_temp.X[:,1] = (adata_temp.obs['condition'])*3\n",
    "    # DE using MAST \n",
    "    R_cmd = util.call_MAST_age()\n",
    "    get_ipython().run_cell_magic(u'R', u'-i adata_temp -i covariate -o de_res', R_cmd)\n",
    "    de_res.columns = ['gene', 'raw-p', 'coef', 'bh-p']\n",
    "    de_res.index = de_res['gene']\n",
    "    DE_result_MAST[analyte] = pd.DataFrame(index = gene_name_list)\n",
    "    DE_result_MAST[analyte] = DE_result_MAST[analyte].join(de_res)\n",
    "    # fc between yound and old\n",
    "    X = adata_temp.X\n",
    "    y = (adata_temp.obs['condition']>10)\n",
    "    DE_result_MAST[analyte]['fc'] = X[y,:].mean(axis=0) - X[~y,:].mean(axis=0)\n",
    "#     break"
   ]
  },
  {
   "cell_type": "markdown",
   "metadata": {},
   "source": [
    "### Save DE results"
   ]
  },
  {
   "cell_type": "code",
   "execution_count": 10,
   "metadata": {},
   "outputs": [],
   "source": [
    "with open(output_folder+'/DE_bulk.pickle', 'wb') as handle:\n",
    "    pickle.dump(DE_result_MAST, handle)\n",
    "    pickle.dump(analysis_list, handle)\n",
    "    pickle.dump(analysis_info, handle)"
   ]
  },
  {
   "cell_type": "markdown",
   "metadata": {},
   "source": [
    "### Validation"
   ]
  },
  {
   "cell_type": "code",
   "execution_count": 12,
   "metadata": {},
   "outputs": [
    {
     "name": "stdout",
     "output_type": "stream",
     "text": [
      "Fat 12428\n",
      "Liver 8147\n",
      "Limb_Muscle 8066\n",
      "Trachea 9606\n",
      "Pancreas 10145\n",
      "Marrow 10720\n",
      "Tongue 8795\n",
      "Lung 5588\n",
      "Spleen 2500\n",
      "Heart 8132\n",
      "Skin 8647\n",
      "Bladder 11658\n",
      "Kidney 1001\n",
      "Thymus 4762\n",
      "Brain_Myeloid 9601\n",
      "Mammary_Gland 5029\n",
      "Brain_Non-Myeloid 12855\n",
      "Large_Intestine 10159\n"
     ]
    }
   ],
   "source": [
    "for analyte in DE_result_MAST.keys():\n",
    "    print(analyte, np.sum(DE_result_MAST[analyte]['bh-p']<0.00001))\n"
   ]
  },
  {
   "cell_type": "code",
   "execution_count": null,
   "metadata": {},
   "outputs": [],
   "source": []
  }
 ],
 "metadata": {
  "kernelspec": {
   "display_name": "Python 3",
   "language": "python",
   "name": "python3"
  },
  "language_info": {
   "codemirror_mode": {
    "name": "ipython",
    "version": 3
   },
   "file_extension": ".py",
   "mimetype": "text/x-python",
   "name": "python",
   "nbconvert_exporter": "python",
   "pygments_lexer": "ipython3",
   "version": "3.6.8"
  }
 },
 "nbformat": 4,
 "nbformat_minor": 2
}
